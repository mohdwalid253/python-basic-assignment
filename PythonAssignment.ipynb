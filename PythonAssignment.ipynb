{
 "cells": [
  {
   "cell_type": "code",
   "execution_count": null,
   "id": "2bdbdc22-274b-4e1e-9d1f-ee9aefc3652f",
   "metadata": {},
   "outputs": [],
   "source": [
    "greeting = \"Hello, Good Morning.\"\n",
    "print(greeting)"
   ]
  },
  {
   "cell_type": "code",
   "execution_count": null,
   "id": "f1fa7c8c-2fd1-4e7c-b43d-3b6a051618aa",
   "metadata": {},
   "outputs": [],
   "source": [
    "message = \"Hello, Good Afternoon.\"\n",
    "print(message)\n",
    "message = \"Hello, Good Evening.\" # The variable \"message\" is overwritten here\n",
    "print(message)"
   ]
  },
  {
   "cell_type": "code",
   "execution_count": null,
   "id": "02cec269-f58c-497e-a0e3-8da56f1a6d12",
   "metadata": {},
   "outputs": [],
   "source": [
    "e = \"Eric\"\n",
    "print(f\"Hello {e}, would you like to learn some Python today?\")"
   ]
  },
  {
   "cell_type": "code",
   "execution_count": null,
   "id": "e3dd94bf-c697-4a1d-9a1d-f781dcdc0683",
   "metadata": {},
   "outputs": [],
   "source": [
    "Quote = \"Albert Einstein once said, \\\"A person who never made a mistake never tried anything new.\\\"\"\n",
    "print(Quote)"
   ]
  },
  {
   "cell_type": "code",
   "execution_count": 1,
   "id": "3ba20758-25f7-4eb3-87ac-e23c5c13d1a3",
   "metadata": {},
   "outputs": [
    {
     "name": "stdout",
     "output_type": "stream",
     "text": [
      "Albert Einstein once said, \"A person who never made a mistake never tried anything new.\"\n"
     ]
    }
   ],
   "source": [
    "famous_person = \"Albert Einstein\"\n",
    "message = famous_person + \" \" + \"once said, \\\"A person who never made a mistake never tried anything new.\\\"\"\n",
    "print(message)"
   ]
  },
  {
   "cell_type": "code",
   "execution_count": 2,
   "id": "43ca4f24-c692-43dd-a62a-218bbda53399",
   "metadata": {},
   "outputs": [
    {
     "name": "stdout",
     "output_type": "stream",
     "text": [
      "8\n",
      "8\n",
      "8\n",
      "8.0\n"
     ]
    }
   ],
   "source": [
    "print(6 + 2)\n",
    "print(10 - 2)\n",
    "print(2 * 4)\n",
    "print(24 / 3)"
   ]
  },
  {
   "cell_type": "code",
   "execution_count": null,
   "id": "e444b812-3f04-4046-ad6b-cd14d69c1a08",
   "metadata": {},
   "outputs": [],
   "source": [
    "fav_num = 7\n",
    "print(f\"My favourite number is {fav_num}\") # This print statement uses f-string to recall fav_num variable"
   ]
  },
  {
   "cell_type": "code",
   "execution_count": 3,
   "id": "f9bce96b-b0d2-4c7e-8d91-4e1c609d06c1",
   "metadata": {},
   "outputs": [
    {
     "name": "stdout",
     "output_type": "stream",
     "text": [
      "Pooja\n",
      "Kshama\n",
      "Khusboo\n",
      "Yasir\n",
      "Manyam\n"
     ]
    }
   ],
   "source": [
    "friends = [\"Pooja\",\"Kshama\",\"Khusboo\",\"Yasir\",\"Manyam\"]\n",
    "for friend in friends:\n",
    "    print(friend)"
   ]
  },
  {
   "cell_type": "code",
   "execution_count": 5,
   "id": "f78fbd0a-7779-4601-bf72-665877ae405c",
   "metadata": {},
   "outputs": [
    {
     "name": "stdout",
     "output_type": "stream",
     "text": [
      "Pooja, you are invited to my Birthday Party.\n",
      "Kshama, you are invited to my Birthday Party.\n",
      "Khusboo, you are invited to my Birthday Party.\n",
      "Yasir, you are invited to my Birthday Party.\n",
      "Manyam, you are invited to my Birthday Party.\n"
     ]
    }
   ],
   "source": [
    "for friend in friends:\n",
    "    print(f\"{friend}, you are invited to my Birthday Party.\")"
   ]
  },
  {
   "cell_type": "code",
   "execution_count": 6,
   "id": "afa7cc73-b27d-45b0-8937-6f1096463cdb",
   "metadata": {},
   "outputs": [
    {
     "name": "stdout",
     "output_type": "stream",
     "text": [
      "I would like to own a Motorcycle.\n",
      "I would like to own a Car.\n",
      "I would like to own a Yacht.\n"
     ]
    }
   ],
   "source": [
    "Mode_of_trans = [\"Motorcycle\", \"Car\", \"Yacht\"]\n",
    "for Mode in Mode_of_trans:\n",
    "    print(f\"I would like to own a {Mode}.\")"
   ]
  }
 ],
 "metadata": {
  "kernelspec": {
   "display_name": "Python [conda env:base] *",
   "language": "python",
   "name": "conda-base-py"
  },
  "language_info": {
   "codemirror_mode": {
    "name": "ipython",
    "version": 3
   },
   "file_extension": ".py",
   "mimetype": "text/x-python",
   "name": "python",
   "nbconvert_exporter": "python",
   "pygments_lexer": "ipython3",
   "version": "3.13.5"
  }
 },
 "nbformat": 4,
 "nbformat_minor": 5
}
